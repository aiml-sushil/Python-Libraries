{
 "cells": [
  {
   "cell_type": "markdown",
   "id": "dfc777a0-869e-40f2-b7e3-40c812d47fe1",
   "metadata": {},
   "source": [
    "# Question 1(Trapezoidal Rule)"
   ]
  },
  {
   "cell_type": "code",
   "execution_count": 4,
   "id": "1bec5a8f-cc3f-43b8-a1c7-3018ebabaa1c",
   "metadata": {},
   "outputs": [
    {
     "name": "stdin",
     "output_type": "stream",
     "text": [
      "Enter number of subintervals (n):  4\n"
     ]
    },
    {
     "name": "stdout",
     "output_type": "stream",
     "text": [
      "Approximate integral of f(x) = x + sin(x) from 0 to 3.141592653589793 is: 6.830921098481718\n"
     ]
    }
   ],
   "source": [
    "import math\n",
    "\n",
    "# Function to be integrated\n",
    "def f(x):\n",
    "    return x + math.sin(x)\n",
    "\n",
    "# Trapezoidal Rule implementation\n",
    "def trapezoidal_rule(a, b, n):\n",
    "    \"\"\"\n",
    "    Approximate integral of f(x) from a to b using Trapezoidal Rule.\n",
    "    a: lower limit\n",
    "    b: upper limit\n",
    "    n: number of subintervals\n",
    "    \"\"\"\n",
    "    h = (b - a) / n   #Step size\n",
    "    result = 0.5 * (f(a) + f(b))  #First and last terms\n",
    "    \n",
    "    #Add the middle terms\n",
    "    for i in range(1, n):\n",
    "        result += f(a + i * h)\n",
    "    \n",
    "    result *= h\n",
    "    return result\n",
    "\n",
    "# Main program\n",
    "if __name__ == \"__main__\":\n",
    "    a = 0\n",
    "    b = math.pi\n",
    "    \n",
    "    # User input for number of subintervals\n",
    "    n = int(input(\"Enter number of subintervals (n): \"))\n",
    "    \n",
    "    integral_value = trapezoidal_rule(a, b, n)\n",
    "    print(f\"Approximate integral of f(x) = x + sin(x) from {a} to {b} is: {integral_value}\")"
   ]
  },
  {
   "cell_type": "markdown",
   "id": "06256ac6-83e1-4034-9799-58ef85d95855",
   "metadata": {},
   "source": [
    "# Question 2 (Matrix Multiplication)"
   ]
  },
  {
   "cell_type": "code",
   "execution_count": 2,
   "id": "8c8e6e30-90d8-4063-b95f-ca45ed81d561",
   "metadata": {},
   "outputs": [
    {
     "name": "stdin",
     "output_type": "stream",
     "text": [
      "enter no. of rows in matrix 1:  3\n",
      "enter no. of columns in matrix 1 (same as rows for matrix 2):  4\n",
      "enter no. of columns in matrix 2:  3\n"
     ]
    },
    {
     "name": "stdout",
     "output_type": "stream",
     "text": [
      "Matrix 1:\n",
      "[[3, 2, 4, 7], [5, 9, 1, 10], [8, 9, 10, 9]]\n",
      "Matrix 2:\n",
      "[[9, 7, 5], [5, 7, 7], [10, 3, 7], [4, 1, 8]]\n",
      "Resultant Matrix (Matrix1 x Matrix2):\n",
      "[[105, 54, 113], [140, 111, 175], [253, 158, 245]]\n"
     ]
    }
   ],
   "source": [
    "import random\n",
    "\n",
    "#take dimensions from user\n",
    "m = int(input(\"enter no. of rows in matrix 1: \"))\n",
    "n = int(input(\"enter no. of columns in matrix 1 (same as rows for matrix 2): \"))\n",
    "p = int(input(\"enter no. of columns in matrix 2: \"))\n",
    "\n",
    "#initialize matrix1 with zeros\n",
    "matrix1 = [[0]*n for _ in range(m)]\n",
    "\n",
    "#fill matrix1 with random integers (1 to 10)\n",
    "for i in range(m):\n",
    "    for j in range(n):\n",
    "        matrix1[i][j] = random.randint(1,10)\n",
    "print(\"Matrix 1:\")\n",
    "print(matrix1)\n",
    "\n",
    "#initialize matrix2 with zeros\n",
    "matrix2 = [[0]*p for _ in range(n)]\n",
    "\n",
    "#fill matrix2 with random integers (1 to 10)\n",
    "for i in range(n):\n",
    "    for j in range(p):\n",
    "        matrix2[i][j] = random.randint(1,10)\n",
    "print(\"Matrix 2:\")\n",
    "print(matrix2)\n",
    "\n",
    "#initialize result matrix with zeros\n",
    "result = [[0]*p for _ in range(m)]\n",
    "\n",
    "#matrix multiplication (triple nested loop)\n",
    "for i in range(m):           #iterate rows of matrix1\n",
    "    for j in range(p):       #iterate columns of matrix2\n",
    "        for k in range(n):   #common dimension\n",
    "            result[i][j] += matrix1[i][k] * matrix2[k][j]\n",
    "\n",
    "#print final result\n",
    "print(\"Resultant Matrix (Matrix1 x Matrix2):\")\n",
    "print(result)\n"
   ]
  },
  {
   "cell_type": "markdown",
   "id": "4b42bb6a-36b8-4330-80fe-21debb1c9140",
   "metadata": {},
   "source": [
    "# Question 3(Inverse Matrix)"
   ]
  },
  {
   "cell_type": "code",
   "execution_count": 7,
   "id": "6cf368e2-48c5-44f0-95fa-0e65d47a1075",
   "metadata": {},
   "outputs": [
    {
     "name": "stdin",
     "output_type": "stream",
     "text": [
      "enter size of square matrix:  3\n"
     ]
    },
    {
     "name": "stdout",
     "output_type": "stream",
     "text": [
      "\n",
      "Matrix A:\n",
      "[0.38152900949634017, -0.21880832903078296, -0.8311212187466459]\n",
      "[-0.5031373500612071, 0.9470374890499558, 0.6135764045008538]\n",
      "[-0.14831597910731098, -0.36847826405844253, -0.037905484281737234]\n",
      "\n",
      "determinant of A: -0.17417688344729315\n",
      "\n",
      "Inverse of A:\n",
      "[-1.0919454406235796, -1.710652196387902, -3.748185817631592]\n",
      "[0.6319716366856276, 0.7907513124693076, -1.056804588974016]\n",
      "[-1.870833622257903, -0.993460872874935, -1.4423936594851627]\n"
     ]
    }
   ],
   "source": [
    "import random\n",
    "\n",
    "#function to generate matrix with random numbers between -1 and 1\n",
    "def generate_matrix(n):\n",
    "    matrix = []\n",
    "    for i in range(n):\n",
    "        row = []\n",
    "        for j in range(n):\n",
    "            row.append(random.uniform(-1,1))   #floating point number\n",
    "        matrix.append(row)\n",
    "    return matrix\n",
    "\n",
    "#function to get minor of matrix (remove ith row and jth col)\n",
    "def get_minor(matrix,i,j):\n",
    "    minor = []\n",
    "    for r in range(len(matrix)):\n",
    "        if r == i:  #skip ith row\n",
    "            continue\n",
    "        row = []\n",
    "        for c in range(len(matrix)):\n",
    "            if c == j:  #skip jth col\n",
    "                continue\n",
    "            row.append(matrix[r][c])\n",
    "        minor.append(row)\n",
    "    return minor\n",
    "\n",
    "#function to calculate determinant (recursive)\n",
    "def determinant(matrix):\n",
    "    n = len(matrix)\n",
    "    if n == 1:\n",
    "        return matrix[0][0]\n",
    "    if n == 2:\n",
    "        return matrix[0][0]*matrix[1][1] - matrix[0][1]*matrix[1][0]\n",
    "    \n",
    "    det = 0\n",
    "    for c in range(n):\n",
    "        det += ((-1)**c) * matrix[0][c] * determinant(get_minor(matrix,0,c))\n",
    "    return det\n",
    "\n",
    "#function to get cofactor matrix\n",
    "def cofactor_matrix(matrix):\n",
    "    n = len(matrix)\n",
    "    cof = []\n",
    "    for i in range(n):\n",
    "        row = []\n",
    "        for j in range(n):\n",
    "            minor = get_minor(matrix,i,j)\n",
    "            row.append(((-1)**(i+j)) * determinant(minor))\n",
    "        cof.append(row)\n",
    "    return cof\n",
    "\n",
    "#function to transpose matrix\n",
    "def transpose(matrix):\n",
    "    n = len(matrix)\n",
    "    trans = []\n",
    "    for i in range(n):\n",
    "        row = []\n",
    "        for j in range(n):\n",
    "            row.append(matrix[j][i])\n",
    "        trans.append(row)\n",
    "    return trans\n",
    "\n",
    "#function to find inverse\n",
    "def inverse(matrix):\n",
    "    det = determinant(matrix)\n",
    "    if abs(det) < 1e-8:   #det = 0 means not invertible\n",
    "        return None\n",
    "    cof = cofactor_matrix(matrix)\n",
    "    adj = transpose(cof)\n",
    "    n = len(matrix)\n",
    "    inv = []\n",
    "    for i in range(n):\n",
    "        row = []\n",
    "        for j in range(n):\n",
    "            row.append(adj[i][j]/det)\n",
    "        inv.append(row)\n",
    "    return inv\n",
    "\n",
    "#function to print matrix\n",
    "def print_matrix(matrix,name):\n",
    "    print(f\"\\n{name}:\")\n",
    "    for row in matrix:\n",
    "        print(row)\n",
    "\n",
    "#main\n",
    "m = int(input(\"enter size of square matrix: \"))\n",
    "A = generate_matrix(m)\n",
    "print_matrix(A,\"Matrix A\")\n",
    "\n",
    "detA = determinant(A)\n",
    "print(\"\\ndeterminant of A:\",detA)\n",
    "\n",
    "if abs(detA) < 1e-8:\n",
    "    print(\"Matrix is not invertible\")\n",
    "else:\n",
    "    invA = inverse(A)\n",
    "    print_matrix(invA,\"Inverse of A\")"
   ]
  },
  {
   "cell_type": "markdown",
   "id": "616e3907-cba0-4952-bf30-1708f6288269",
   "metadata": {},
   "source": [
    "# Question 4(Bisection Method)"
   ]
  },
  {
   "cell_type": "code",
   "execution_count": 13,
   "id": "e905f8e5-3e4d-4e67-a8c2-d2ada13e4860",
   "metadata": {},
   "outputs": [
    {
     "name": "stdin",
     "output_type": "stream",
     "text": [
      "Enter first number (interval start):  2\n",
      "Enter second number (interval end):  7\n",
      "Enter tolerance:  0.0001\n"
     ]
    },
    {
     "name": "stdout",
     "output_type": "stream",
     "text": [
      "Approximate root is: 2.7065582275390625\n"
     ]
    }
   ],
   "source": [
    "#function f(x) whose root we want to find\n",
    "def f(x):\n",
    "    return x**3 - 4*x - 9   #given equation\n",
    "\n",
    "\n",
    "#bisection method function\n",
    "def bisection(a,b,tol):\n",
    "    #check if root lies in [a,b]\n",
    "    if f(a)*f(b) > 0:\n",
    "        print(\" Root does not lie in the given interval.\")\n",
    "        return None\n",
    "\n",
    "    while (b-a)/2 > tol:   #loop until interval size is smaller than tolerance\n",
    "        m = (a+b)/2        #midpoint\n",
    "        if f(m) == 0:      #if exact root found\n",
    "            return m\n",
    "        elif f(a)*f(m) < 0: #root lies in left half\n",
    "            b = m\n",
    "        else:              #root lies in right half\n",
    "            a = m\n",
    "    return (a+b)/2         #approx root\n",
    "\n",
    "\n",
    "#main program\n",
    "a = float(input(\"Enter first number (interval start): \"))\n",
    "b = float(input(\"Enter second number (interval end): \"))\n",
    "tol = float(input(\"Enter tolerance: \"))\n",
    "\n",
    "root = bisection(a,b,tol)\n",
    "if root is not None:\n",
    "    print(f\"Approximate root is: {root}\")"
   ]
  },
  {
   "cell_type": "markdown",
   "id": "14aa7b55-bc48-4299-8503-331d954afd21",
   "metadata": {},
   "source": [
    "# Question 5 (1000 random points)"
   ]
  },
  {
   "cell_type": "code",
   "execution_count": 9,
   "id": "dbda044d-e9d4-4189-afd3-a922cad8e6d2",
   "metadata": {},
   "outputs": [
    {
     "name": "stdin",
     "output_type": "stream",
     "text": [
      "enter mean (mu):  8\n",
      "enter std deviation (sigma):  0.1\n",
      "enter number of bins:  5\n"
     ]
    },
    {
     "name": "stdout",
     "output_type": "stream",
     "text": [
      "\n",
      "Histogram bins (distribution H):\n",
      "[171, 2467, 5493, 1777, 92]\n",
      "\n",
      "1000 random numbers from H:\n",
      "[7.8623449340911, 8.014531658825792, 8.014531658825792, 8.014531658825792, 8.166718383560484, 8.014531658825792, 8.014531658825792, 8.166718383560484, 8.014531658825792, 8.014531658825792, 8.014531658825792, 8.014531658825792, 7.8623449340911, 8.014531658825792, 8.014531658825792, 8.014531658825792, 8.166718383560484, 8.014531658825792, 8.014531658825792, 8.014531658825792] ...\n"
     ]
    }
   ],
   "source": [
    "import random\n",
    "import math\n",
    "\n",
    "#function to generate normal random number using Box-Muller method\n",
    "def normal_random(mu, sigma):\n",
    "    u1 = random.random()\n",
    "    u2 = random.random()\n",
    "    z = math.sqrt(-2*math.log(u1)) * math.cos(2*math.pi*u2)\n",
    "    return mu + sigma*z\n",
    "\n",
    "#main\n",
    "mu = float(input(\"enter mean (mu): \"))\n",
    "sigma = float(input(\"enter std deviation (sigma): \"))\n",
    "n_bins = int(input(\"enter number of bins: \"))\n",
    "\n",
    "#generate 10000 samples\n",
    "samples = [normal_random(mu,sigma) for _ in range(10000)]\n",
    "\n",
    "#find min and max for binning\n",
    "x_min = min(samples)\n",
    "x_max = max(samples)\n",
    "bin_width = (x_max - x_min) / n_bins\n",
    "\n",
    "#count how many samples fall in each bin\n",
    "hist = [0]*n_bins\n",
    "for x in samples:\n",
    "    index = int((x - x_min)//bin_width)\n",
    "    if index == n_bins:   #edge case\n",
    "        index -= 1\n",
    "    hist[index] += 1\n",
    "\n",
    "print(\"\\nHistogram bins (distribution H):\")\n",
    "print(hist)\n",
    "\n",
    "#now generate 1000 random numbers from distribution H\n",
    "generated = []\n",
    "for _ in range(1000):\n",
    "    #choose a bin according to probability\n",
    "    r = random.random()\n",
    "    cum_prob = 0\n",
    "    for i in range(n_bins):\n",
    "        cum_prob += hist[i]/10000\n",
    "        if r <= cum_prob:\n",
    "            #generate number around mid of that bin\n",
    "            x = x_min + (i+0.5)*bin_width\n",
    "            generated.append(x)\n",
    "            break\n",
    "\n",
    "print(\"\\n1000 random numbers from H:\")\n",
    "print(generated[:20],\"...\")   #printing only first 20"
   ]
  },
  {
   "cell_type": "markdown",
   "id": "3c26ffbf-3dd4-4da6-a255-4770812dfd2e",
   "metadata": {},
   "source": [
    "# Question 6 (Weighted Mean,Median,Mode)"
   ]
  },
  {
   "cell_type": "code",
   "execution_count": 10,
   "id": "50a43ae8-db3e-44e9-bc7c-18292344aa4d",
   "metadata": {},
   "outputs": [
    {
     "name": "stdout",
     "output_type": "stream",
     "text": [
      "\n",
      "Weighted Mean: 8.001626224568291\n",
      "Weighted Median: 8.014531658825792\n",
      "Weighted Mode: 8.014531658825792\n"
     ]
    }
   ],
   "source": [
    "#function to calculate weighted mean, median, mode from histogram\n",
    "def weighted_stats(hist, x_min, bin_width):\n",
    "    n_bins = len(hist)\n",
    "    total = sum(hist)\n",
    "\n",
    "    #midpoints of bins\n",
    "    mids = [x_min + (i+0.5)*bin_width for i in range(n_bins)]\n",
    "    probs = [count/total for count in hist]\n",
    "\n",
    "    #weighted mean\n",
    "    mean = sum(mids[i]*probs[i] for i in range(n_bins))\n",
    "\n",
    "    #weighted median (point where cumulative prob = 0.5)\n",
    "    cum_prob = 0\n",
    "    median = None\n",
    "    for i in range(n_bins):\n",
    "        cum_prob += probs[i]\n",
    "        if cum_prob >= 0.5:\n",
    "            median = mids[i]\n",
    "            break\n",
    "\n",
    "    #weighted mode (bin with max frequency)\n",
    "    max_index = hist.index(max(hist))\n",
    "    mode = mids[max_index]\n",
    "\n",
    "    return mean, median, mode\n",
    "\n",
    "#main\n",
    "mean,median,mode = weighted_stats(hist, x_min, bin_width)\n",
    "\n",
    "print(\"\\nWeighted Mean:\",mean)\n",
    "print(\"Weighted Median:\",median)\n",
    "print(\"Weighted Mode:\",mode)\n"
   ]
  },
  {
   "cell_type": "markdown",
   "id": "51c02724-a9f3-43b0-bb26-00eac30bb8a0",
   "metadata": {},
   "source": [
    "# Question 7"
   ]
  },
  {
   "cell_type": "code",
   "execution_count": 11,
   "id": "dabebf81-88a1-48ee-8054-c60c76931c3e",
   "metadata": {},
   "outputs": [
    {
     "name": "stdout",
     "output_type": "stream",
     "text": [
      "Generated 1000 random points inside 5D hypersphere.\n",
      "First 5 points:\n",
      "[4.272211029037891, -67.94430434466085, -9.390949546173587, 29.223381038881158, -53.477419209594856]\n",
      "[45.28244605996517, -44.78381267335436, -52.682138047913995, -32.47421390087794, -33.13457288309061]\n",
      "[-38.97816903430429, -25.39957016079282, 28.413675707416488, 4.362658798395884, -55.24775698926108]\n",
      "[-8.981262974366032, -17.448376798105002, 32.786995903911816, 39.30661040779373, -40.85014428488629]\n",
      "[-0.9151930455532522, 72.17103249243863, 38.39526143734997, 45.97089989567144, -13.122934018782345]\n"
     ]
    }
   ],
   "source": [
    "import random\n",
    "import math\n",
    "\n",
    "#function to generate a random point inside 5D hypersphere\n",
    "def random_point_in_hypersphere(center, radius):\n",
    "    while True:\n",
    "        #generate random point in cube [-r,r]^5\n",
    "        point = [random.uniform(-radius, radius) for _ in range(5)]\n",
    "        #calculate distance from origin\n",
    "        dist = math.sqrt(sum([x**2 for x in point]))\n",
    "        if dist <= radius:   #point inside hypersphere\n",
    "            #shift point to given center\n",
    "            shifted = [point[i] + center[i] for i in range(5)]\n",
    "            return shifted\n",
    "\n",
    "#main\n",
    "center = [1,2,3,2,1]\n",
    "radius = 100\n",
    "\n",
    "points = []\n",
    "while len(points) < 1000:\n",
    "    p = random_point_in_hypersphere(center, radius)\n",
    "    #check: not all coordinates positive\n",
    "    if not all(coord > 0 for coord in p):\n",
    "        points.append(p)\n",
    "\n",
    "print(\"Generated 1000 random points inside 5D hypersphere.\")\n",
    "print(\"First 5 points:\")\n",
    "for i in range(5):\n",
    "    print(points[i])\n"
   ]
  },
  {
   "cell_type": "markdown",
   "id": "34dabea6-43d8-4f5f-b286-b2495e130e03",
   "metadata": {},
   "source": [
    "# Question 8 (RK4)"
   ]
  },
  {
   "cell_type": "code",
   "execution_count": 12,
   "id": "914ae069-771a-42da-a2ab-0c1746dc39a0",
   "metadata": {},
   "outputs": [
    {
     "name": "stdout",
     "output_type": "stream",
     "text": [
      "Approximate value of y at x=0.5 is 1.7974412771936765\n"
     ]
    }
   ],
   "source": [
    "#function f(x,y) = dy/dx\n",
    "def f(x,y):\n",
    "    return x + y\n",
    "\n",
    "#RK4 method\n",
    "def rk4(x0,y0,h,n):\n",
    "    x = x0\n",
    "    y = y0\n",
    "    for i in range(n):\n",
    "        k1 = h*f(x,y)\n",
    "        k2 = h*f(x + h/2, y + k1/2)\n",
    "        k3 = h*f(x + h/2, y + k2/2)\n",
    "        k4 = h*f(x + h, y + k3)\n",
    "        y = y + (k1 + 2*k2 + 2*k3 + k4)/6\n",
    "        x = x + h\n",
    "    return y\n",
    "\n",
    "#main\n",
    "x0 = 0\n",
    "y0 = 1\n",
    "h = 0.1\n",
    "x_target = 0.5\n",
    "n = int((x_target - x0)/h)\n",
    "\n",
    "result = rk4(x0,y0,h,n)\n",
    "print(f\"Approximate value of y at x={x_target} is {result}\")\n"
   ]
  },
  {
   "cell_type": "code",
   "execution_count": null,
   "id": "4919e775-ee9f-4c02-89a3-e9934a2cd0c2",
   "metadata": {},
   "outputs": [],
   "source": []
  }
 ],
 "metadata": {
  "kernelspec": {
   "display_name": "Python 3 (ipykernel)",
   "language": "python",
   "name": "python3"
  },
  "language_info": {
   "codemirror_mode": {
    "name": "ipython",
    "version": 3
   },
   "file_extension": ".py",
   "mimetype": "text/x-python",
   "name": "python",
   "nbconvert_exporter": "python",
   "pygments_lexer": "ipython3",
   "version": "3.12.7"
  }
 },
 "nbformat": 4,
 "nbformat_minor": 5
}
