{
 "cells": [
  {
   "cell_type": "code",
   "execution_count": 47,
   "id": "8b0da493-4361-458c-90a4-ded1a52c487c",
   "metadata": {},
   "outputs": [],
   "source": [
    "def findMin(L,startin):\n",
    "    min = L[startin]\n",
    "    idx = startin\n",
    "\n",
    "    for x in range(startin,len(L)):\n",
    "        if L[x]<min:\n",
    "            min = L[x]\n",
    "            idx = x\n",
    "\n",
    "    return min,idx\n",
    "\n",
    "def Swap(L,idx1,idx2):\n",
    "    tmp = L[idx1]\n",
    "    L[idx1] = L[idx2]\n",
    "    L[idx2] = tmp\n",
    "    return L\n",
    "\n",
    "\n",
    "def Sort(L):\n",
    "    for x in L:\n",
    "        if not(isinstance(x,(int,float))):\n",
    "            print('Error, List has some forigen values')\n",
    "            return\n",
    "        else:\n",
    "            for x in range(len(L)):\n",
    "                min,i = findMin(L,x)\n",
    "                Swap(L,x,i)\n",
    "\n",
    "        return L\n",
    "\n",
    "        \n",
    "            \n",
    "           \n",
    "         \n",
    "\n",
    "\n",
    "        "
   ]
  },
  {
   "cell_type": "code",
   "execution_count": 49,
   "id": "9e089d90-3f30-42e4-bd77-5595c3562543",
   "metadata": {},
   "outputs": [
    {
     "data": {
      "text/plain": [
       "[-10000, -3, -2, 1, 2, 6, 9, 15, 51, 78, 89, 98]"
      ]
     },
     "execution_count": 49,
     "metadata": {},
     "output_type": "execute_result"
    }
   ],
   "source": [
    "List = [9,-2,15,1,-10000,51,6,78,98,89,-3,2]\n",
    "\n",
    "# d,c = findMin(List,2)\n",
    "# print(d,c)\n",
    "\n",
    "# # Swap(List,0,c)\n",
    "# # print(List)\n",
    "\n",
    "\n",
    "Sort(List)\n",
    "\n"
   ]
  },
  {
   "cell_type": "markdown",
   "id": "e86acf26-38f8-491f-92f2-b9a3f7d164c6",
   "metadata": {},
   "source": [
    "# String"
   ]
  },
  {
   "cell_type": "code",
   "execution_count": 50,
   "id": "9789b796-b488-4b02-a573-60b7c9cba7b6",
   "metadata": {},
   "outputs": [
    {
     "name": "stdout",
     "output_type": "stream",
     "text": [
      "Bhai i m getting out of this shit\n"
     ]
    }
   ],
   "source": [
    "s = 'Bhai i m getting out of this shit'\n",
    "print(s)\n"
   ]
  },
  {
   "cell_type": "code",
   "execution_count": 54,
   "id": "94bbed33-2e57-4808-b685-5db0b68ded57",
   "metadata": {},
   "outputs": [
    {
     "name": "stdout",
     "output_type": "stream",
     "text": [
      "hi\n"
     ]
    }
   ],
   "source": [
    "print(s[-3:-1])"
   ]
  },
  {
   "cell_type": "code",
   "execution_count": 64,
   "id": "d363b82a-5081-4e0b-a243-3d5921e96741",
   "metadata": {},
   "outputs": [],
   "source": [
    "ss = s +' ' +s"
   ]
  },
  {
   "cell_type": "code",
   "execution_count": 66,
   "id": "7f779361-8117-4512-8a41-cba67badf0ce",
   "metadata": {},
   "outputs": [
    {
     "name": "stdout",
     "output_type": "stream",
     "text": [
      "Bhai i m getting   oooolllo  ut   oooolllo  f this shit Bhai i m getting   oooolllo  ut   oooolllo  f this shit\n"
     ]
    }
   ],
   "source": [
    "e = ss.replace('o', '  oooolllo  ')\n",
    "print(e)"
   ]
  },
  {
   "cell_type": "code",
   "execution_count": 69,
   "id": "aa920717-5136-4f75-8c4d-86ba6c9d152c",
   "metadata": {},
   "outputs": [
    {
     "name": "stdout",
     "output_type": "stream",
     "text": [
      "False\n"
     ]
    }
   ],
   "source": [
    "print('olil' in e)"
   ]
  },
  {
   "cell_type": "markdown",
   "id": "ad785a1c-af58-46a5-aa79-fb38995e82b5",
   "metadata": {},
   "source": [
    "# data structures"
   ]
  },
  {
   "cell_type": "code",
   "execution_count": 126,
   "id": "797fc348-0868-4981-a456-9ff7d6848922",
   "metadata": {},
   "outputs": [],
   "source": [
    "lis = [7,'ssuhil ',78,1]\n",
    "tupl = (3,1,6,56,5,6,'hello')\n",
    "se = {3,1,'he'}\n",
    "dicto = {\n",
    "    'mu bpu':89,\n",
    "     78 : 'fire',\n",
    "     34 : 98\n",
    "\n",
    "}"
   ]
  },
  {
   "cell_type": "code",
   "execution_count": 127,
   "id": "12e6ad71-6c23-4bdc-8e8e-ed62c86dd4ef",
   "metadata": {},
   "outputs": [
    {
     "name": "stdout",
     "output_type": "stream",
     "text": [
      "<class 'list'>\n",
      "<class 'tuple'>\n",
      "<class 'set'>\n",
      "<class 'dict'>\n"
     ]
    }
   ],
   "source": [
    "print(type(lis))\n",
    "print(type(tupl))\n",
    "print(type(se))\n",
    "print(type(dicto))"
   ]
  },
  {
   "cell_type": "code",
   "execution_count": 128,
   "id": "0d40bfa0-753a-450a-97da-b3774900e1c4",
   "metadata": {},
   "outputs": [
    {
     "name": "stdout",
     "output_type": "stream",
     "text": [
      "[7, 'ssuhil ', 78, 1, 63]\n",
      "[7, 'ssuhil ', 78, 1]\n",
      "['ssuhil ']\n",
      "[7, 'ssuhil ', 78, 1, 8, 'by', 900]\n"
     ]
    }
   ],
   "source": [
    "lis.append(63)\n",
    "print(lis)\n",
    "\n",
    "lis.pop()\n",
    "print(lis)\n",
    "print(lis[1:2])\n",
    "\n",
    "lis = lis + [8,'by',900]\n",
    "print(lis)"
   ]
  },
  {
   "cell_type": "code",
   "execution_count": 129,
   "id": "29cedac1-48e6-4a2c-805d-6e95350ac084",
   "metadata": {},
   "outputs": [
    {
     "name": "stdout",
     "output_type": "stream",
     "text": [
      "(3, 1, 6, 56, 5, 6, 'hello')\n"
     ]
    }
   ],
   "source": [
    "\n",
    "tupl.count(6)\n",
    "print(tupl)"
   ]
  },
  {
   "cell_type": "code",
   "execution_count": 130,
   "id": "977a40cb-fb60-4335-a751-6f115658b334",
   "metadata": {},
   "outputs": [
    {
     "name": "stdout",
     "output_type": "stream",
     "text": [
      "(3, 1, 6, 56, 5, 6, 'hello')\n"
     ]
    }
   ],
   "source": [
    "# tupl = tupl + (71,13,'nive')\n",
    "print(tupl)"
   ]
  },
  {
   "cell_type": "code",
   "execution_count": 131,
   "id": "e2f2720c-179f-47a5-8700-dedc6b46b46e",
   "metadata": {},
   "outputs": [
    {
     "name": "stdout",
     "output_type": "stream",
     "text": [
      "mu bpu 89\n",
      "78 fire\n",
      "34 98\n"
     ]
    }
   ],
   "source": [
    "for x in dicto:\n",
    "\n",
    "    print(x,dicto[x])"
   ]
  },
  {
   "cell_type": "code",
   "execution_count": 132,
   "id": "00367d0c-7fea-46c7-8a44-538d1037da5d",
   "metadata": {},
   "outputs": [],
   "source": [
    "dicto['79'] = 76"
   ]
  },
  {
   "cell_type": "code",
   "execution_count": 133,
   "id": "63cbcbd8-49a4-4c32-b498-dba549beca99",
   "metadata": {},
   "outputs": [
    {
     "name": "stdout",
     "output_type": "stream",
     "text": [
      "{'mu bpu': 89, 78: 'fire', 34: 98, '79': 76}\n"
     ]
    }
   ],
   "source": [
    "print(dicto)"
   ]
  },
  {
   "cell_type": "code",
   "execution_count": null,
   "id": "3d74086f-7de8-4e77-a526-0ea1035687fa",
   "metadata": {},
   "outputs": [],
   "source": []
  },
  {
   "cell_type": "code",
   "execution_count": 134,
   "id": "714cd372-1d68-4720-88be-5382b4ef03de",
   "metadata": {},
   "outputs": [
    {
     "name": "stdout",
     "output_type": "stream",
     "text": [
      "{'mu bpu': 89, 78: 'fire', 34: 98, '79': 76}\n"
     ]
    }
   ],
   "source": [
    "print(dicto)"
   ]
  },
  {
   "cell_type": "code",
   "execution_count": 136,
   "id": "7a0a10db-9168-4968-8acb-7f68995f6147",
   "metadata": {},
   "outputs": [
    {
     "name": "stdout",
     "output_type": "stream",
     "text": [
      "{'mu bpu': 89, 78: 'fire', 34: 98, '79': 76, 'helo': 7, 3: 'bc'}\n"
     ]
    }
   ],
   "source": [
    "dicto2 = {'helo':7,\n",
    "          3:\"bc\"\n",
    "         }\n",
    "\n",
    "dicto.update(dicto2)\n",
    "\n",
    "print(dicto)"
   ]
  },
  {
   "cell_type": "code",
   "execution_count": 137,
   "id": "905521eb-79c8-4f6b-98b4-eb1471321534",
   "metadata": {},
   "outputs": [],
   "source": [
    "L2 = lis.copy()"
   ]
  },
  {
   "cell_type": "code",
   "execution_count": 138,
   "id": "d6fc9db8-eb88-403b-90fb-bf8daf204241",
   "metadata": {},
   "outputs": [
    {
     "name": "stdout",
     "output_type": "stream",
     "text": [
      "[7, 'ssuhil ', 78, 1, 8, 'by', 900]\n"
     ]
    }
   ],
   "source": [
    "print(L2)"
   ]
  },
  {
   "cell_type": "code",
   "execution_count": 139,
   "id": "5bbbc56a-2414-43cd-b05b-8dde40838c07",
   "metadata": {},
   "outputs": [],
   "source": [
    "L2 = lis \n"
   ]
  },
  {
   "cell_type": "code",
   "execution_count": 140,
   "id": "f08c9a34-fa37-4e5c-b718-e204832e6fdd",
   "metadata": {},
   "outputs": [],
   "source": [
    "L2[2] = \"seventy eightt\""
   ]
  },
  {
   "cell_type": "code",
   "execution_count": 142,
   "id": "af735893-fc51-49a6-bed3-3f579e76dd6a",
   "metadata": {},
   "outputs": [
    {
     "name": "stdout",
     "output_type": "stream",
     "text": [
      "[7, 'ssuhil ', 'seventy eightt', 1, 8, 'by', 900] [7, 'ssuhil ', 'seventy eightt', 1, 8, 'by', 900]\n"
     ]
    }
   ],
   "source": [
    "print(lis,L2)"
   ]
  },
  {
   "cell_type": "code",
   "execution_count": 147,
   "id": "69ec37a0-6bfe-4cc4-aa90-3bc47e8c8167",
   "metadata": {},
   "outputs": [
    {
     "name": "stdout",
     "output_type": "stream",
     "text": [
      "[900, 'by', 8, 1, 'seventy eightt', 'ssuhil ', 7]\n"
     ]
    }
   ],
   "source": [
    "lis.reverse()\n",
    "print(lis)"
   ]
  },
  {
   "cell_type": "code",
   "execution_count": 159,
   "id": "372f6d9c-d0d5-4b6e-b48f-50076610b291",
   "metadata": {},
   "outputs": [
    {
     "name": "stdout",
     "output_type": "stream",
     "text": [
      "8\n"
     ]
    }
   ],
   "source": [
    "\n",
    "lis2 = {'a':lis,\n",
    "        'b':se,\n",
    "        'c':dicto,\n",
    "        'd': 24}\n",
    "print(lis2['a'][2])"
   ]
  },
  {
   "cell_type": "code",
   "execution_count": 163,
   "id": "45d55ced-f9bb-4c7e-81a1-92cdd3c619ca",
   "metadata": {},
   "outputs": [
    {
     "name": "stdout",
     "output_type": "stream",
     "text": [
      "[0, 1, 4, 9, 16, 25, 36, 49, 64, 81, 100, 121, 144, 169, 196, 225, 256, 289, 324, 361, 400, 441, 484, 529, 576, 625, 676, 729, 784, 841, 900, 961, 1024, 1089, 1156, 1225, 1296, 1369, 1444, 1521, 1600, 1681, 1764, 1849, 1936, 2025, 2116, 2209, 2304, 2401]\n"
     ]
    }
   ],
   "source": [
    "L3 = [x**2 for x in range(50)]\n",
    "print(L3)"
   ]
  },
  {
   "cell_type": "markdown",
   "id": "6ad4ade1-2c71-45df-8d13-7ddbb0523087",
   "metadata": {},
   "source": [
    "# Question "
   ]
  },
  {
   "cell_type": "code",
   "execution_count": 174,
   "id": "29c2f7cb-4e1a-4059-b496-8ea6f26eb3eb",
   "metadata": {},
   "outputs": [],
   "source": [
    "def Avreage(lis):\n",
    "    count = 0\n",
    "    sum = 0\n",
    "    for x in lis:\n",
    "        sum += x\n",
    "        count += 1\n",
    "\n",
    "    return sum/(count)\n",
    "\n",
    "    \n",
    "\n",
    "def GetMarks():\n",
    "    while True:\n",
    "        D = {}\n",
    "        StuId = input(\"enter ur ID: \")\n",
    "        marksList = input(\"enter ur marks sepereated by comma: \")\n",
    "        moreStu = input(\"if no more student enter 'exit': \")\n",
    "\n",
    "        if StuId in D:\n",
    "            print(StuId,\"already inserted\")\n",
    "        else:\n",
    "            D[StuId] = marksList.split(',')\n",
    "            D[avg] = Avreage(D[StuId])\n",
    "\n",
    "        if moreStu == 'exit':\n",
    "            break\n",
    "\n",
    "\n",
    "    return D\n",
    "            \n",
    "        \n",
    "    \n",
    "       \n",
    "        \n",
    "    \n",
    "    "
   ]
  },
  {
   "cell_type": "code",
   "execution_count": 175,
   "id": "63b605da-8b86-42e5-9a39-7c69e4250270",
   "metadata": {},
   "outputs": [
    {
     "name": "stdin",
     "output_type": "stream",
     "text": [
      "enter ur ID:  27\n",
      "enter ur marks sepereated by comma:  95,90,89,79,85,94\n",
      "if no more student enter 'exit':  rt\n"
     ]
    },
    {
     "ename": "TypeError",
     "evalue": "unsupported operand type(s) for +=: 'int' and 'str'",
     "output_type": "error",
     "traceback": [
      "\u001b[1;31m---------------------------------------------------------------------------\u001b[0m",
      "\u001b[1;31mTypeError\u001b[0m                                 Traceback (most recent call last)",
      "Cell \u001b[1;32mIn[175], line 2\u001b[0m\n\u001b[0;32m      1\u001b[0m L\u001b[38;5;241m=\u001b[39m{}\n\u001b[1;32m----> 2\u001b[0m L \u001b[38;5;241m=\u001b[39m \u001b[43mGetMarks\u001b[49m\u001b[43m(\u001b[49m\u001b[43m)\u001b[49m\n",
      "Cell \u001b[1;32mIn[174], line 23\u001b[0m, in \u001b[0;36mGetMarks\u001b[1;34m()\u001b[0m\n\u001b[0;32m     21\u001b[0m \u001b[38;5;28;01melse\u001b[39;00m:\n\u001b[0;32m     22\u001b[0m     D[StuId] \u001b[38;5;241m=\u001b[39m marksList\u001b[38;5;241m.\u001b[39msplit(\u001b[38;5;124m'\u001b[39m\u001b[38;5;124m,\u001b[39m\u001b[38;5;124m'\u001b[39m)\n\u001b[1;32m---> 23\u001b[0m     D[avg] \u001b[38;5;241m=\u001b[39m \u001b[43mAvreage\u001b[49m\u001b[43m(\u001b[49m\u001b[43mD\u001b[49m\u001b[43m[\u001b[49m\u001b[43mStuId\u001b[49m\u001b[43m]\u001b[49m\u001b[43m)\u001b[49m\n\u001b[0;32m     25\u001b[0m \u001b[38;5;28;01mif\u001b[39;00m moreStu \u001b[38;5;241m==\u001b[39m \u001b[38;5;124m'\u001b[39m\u001b[38;5;124mexit\u001b[39m\u001b[38;5;124m'\u001b[39m:\n\u001b[0;32m     26\u001b[0m     \u001b[38;5;28;01mbreak\u001b[39;00m\n",
      "Cell \u001b[1;32mIn[174], line 5\u001b[0m, in \u001b[0;36mAvreage\u001b[1;34m(lis)\u001b[0m\n\u001b[0;32m      3\u001b[0m \u001b[38;5;28msum\u001b[39m \u001b[38;5;241m=\u001b[39m \u001b[38;5;241m0\u001b[39m\n\u001b[0;32m      4\u001b[0m \u001b[38;5;28;01mfor\u001b[39;00m x \u001b[38;5;129;01min\u001b[39;00m lis:\n\u001b[1;32m----> 5\u001b[0m     \u001b[38;5;28;43msum\u001b[39;49m\u001b[43m \u001b[49m\u001b[38;5;241;43m+\u001b[39;49m\u001b[38;5;241;43m=\u001b[39;49m\u001b[43m \u001b[49m\u001b[43mx\u001b[49m\n\u001b[0;32m      6\u001b[0m     count \u001b[38;5;241m+\u001b[39m\u001b[38;5;241m=\u001b[39m \u001b[38;5;241m1\u001b[39m\n\u001b[0;32m      8\u001b[0m \u001b[38;5;28;01mreturn\u001b[39;00m \u001b[38;5;28msum\u001b[39m\u001b[38;5;241m/\u001b[39m(count)\n",
      "\u001b[1;31mTypeError\u001b[0m: unsupported operand type(s) for +=: 'int' and 'str'"
     ]
    }
   ],
   "source": [
    "L={}\n",
    "L = GetMarks()"
   ]
  },
  {
   "cell_type": "code",
   "execution_count": null,
   "id": "80ec3301-3750-45fb-b013-ece017ea9319",
   "metadata": {},
   "outputs": [],
   "source": []
  }
 ],
 "metadata": {
  "kernelspec": {
   "display_name": "Python 3 (ipykernel)",
   "language": "python",
   "name": "python3"
  },
  "language_info": {
   "codemirror_mode": {
    "name": "ipython",
    "version": 3
   },
   "file_extension": ".py",
   "mimetype": "text/x-python",
   "name": "python",
   "nbconvert_exporter": "python",
   "pygments_lexer": "ipython3",
   "version": "3.12.7"
  }
 },
 "nbformat": 4,
 "nbformat_minor": 5
}
